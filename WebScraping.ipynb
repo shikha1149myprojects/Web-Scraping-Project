{
  "nbformat": 4,
  "nbformat_minor": 0,
  "metadata": {
    "colab": {
      "provenance": []
    },
    "kernelspec": {
      "name": "python3",
      "display_name": "Python 3"
    },
    "language_info": {
      "name": "python"
    }
  },
  "cells": [
    {
      "cell_type": "code",
      "source": [
        "!pip install serpapi beautifulsoup4 requests\n"
      ],
      "metadata": {
        "colab": {
          "base_uri": "https://localhost:8080/"
        },
        "id": "JrICoaAtMPWS",
        "outputId": "129b0a41-dfe6-422e-ddff-bc0dc47c9771"
      },
      "execution_count": null,
      "outputs": [
        {
          "output_type": "stream",
          "name": "stdout",
          "text": [
            "Requirement already satisfied: serpapi in /usr/local/lib/python3.10/dist-packages (0.1.5)\n",
            "Requirement already satisfied: beautifulsoup4 in /usr/local/lib/python3.10/dist-packages (4.12.3)\n",
            "Requirement already satisfied: requests in /usr/local/lib/python3.10/dist-packages (2.31.0)\n",
            "Requirement already satisfied: soupsieve>1.2 in /usr/local/lib/python3.10/dist-packages (from beautifulsoup4) (2.5)\n",
            "Requirement already satisfied: charset-normalizer<4,>=2 in /usr/local/lib/python3.10/dist-packages (from requests) (3.3.2)\n",
            "Requirement already satisfied: idna<4,>=2.5 in /usr/local/lib/python3.10/dist-packages (from requests) (3.7)\n",
            "Requirement already satisfied: urllib3<3,>=1.21.1 in /usr/local/lib/python3.10/dist-packages (from requests) (2.0.7)\n",
            "Requirement already satisfied: certifi>=2017.4.17 in /usr/local/lib/python3.10/dist-packages (from requests) (2024.6.2)\n"
          ]
        }
      ]
    },
    {
      "cell_type": "code",
      "source": [
        "import requests\n",
        "from bs4 import BeautifulSoup\n",
        "from serpapi import GoogleSearch\n",
        "\n",
        "# Replace with your actual SerpAPI key\n",
        "SERP_API_KEY = '5d7aa00f5c07a0b2912cbebdbf93ca9d45e68dd925536beb994e0f365cf63713'\n"
      ],
      "metadata": {
        "id": "DVwMd5x5MU9I"
      },
      "execution_count": null,
      "outputs": []
    },
    {
      "cell_type": "code",
      "source": [
        "def search_google(query):\n",
        "    params = {\n",
        "        \"engine\": \"google\",\n",
        "        \"q\": query,\n",
        "        \"api_key\": SERP_API_KEY\n",
        "    }\n",
        "    search = GoogleSearch(params)\n",
        "    results = search.get_dict()\n",
        "    urls = [result['link'] for result in results['organic_results']]\n",
        "    return urls\n",
        "\n",
        "def scrape_page(url):\n",
        "    try:\n",
        "        response = requests.get(url)\n",
        "        response.raise_for_status()  # Check if the request was successful\n",
        "        soup = BeautifulSoup(response.text, 'html.parser')\n",
        "        return soup.get_text()\n",
        "    except Exception as e:\n",
        "        return f\"Failed to scrape {url}: {str(e)}\"\n",
        "\n",
        "def save_results(data, filename):\n",
        "    with open(filename, 'w', encoding='utf-8') as file:\n",
        "        file.write(data)\n"
      ],
      "metadata": {
        "id": "XQzGpSiCNxYV"
      },
      "execution_count": null,
      "outputs": []
    },
    {
      "cell_type": "code",
      "source": [
        "def main(query):\n",
        "    urls = search_google(query)\n",
        "    all_data = \"\"\n",
        "    for url in urls:\n",
        "        page_data = scrape_page(url)\n",
        "        all_data += f\"URL: {url}\\n{page_data}\\n\\n\"\n",
        "\n",
        "    save_results(all_data, 'scraped_results.txt')\n",
        "\n",
        "if __name__ == \"__main__\":\n",
        "    query = \"indexof:backup/web.config\"  # Replace with your query\n",
        "    main(query)\n"
      ],
      "metadata": {
        "id": "uuA3pWKZN4oh"
      },
      "execution_count": null,
      "outputs": []
    },
    {
      "cell_type": "code",
      "source": [
        "query = \"indexof:backup/web.config\"  # Replace with your query\n",
        "main(query)\n"
      ],
      "metadata": {
        "id": "yxUhskGHON7B"
      },
      "execution_count": null,
      "outputs": []
    }
  ]
}